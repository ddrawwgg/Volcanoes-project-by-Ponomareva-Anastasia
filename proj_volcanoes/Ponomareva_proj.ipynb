{
 "cells": [
  {
   "cell_type": "markdown",
   "metadata": {},
   "source": [
    "## Study of volcanic eruptions since the 18th century.\n",
    "\n",
    "#### Based on the \"significant-volcanic-eruption-database\" dataset, a study was conducted on the activity of volcanoes, subsequent disasters and the number of victims.\n",
    "\n",
    "##### The first task is to correctly read the table and become familiar with the source data:"
   ]
  },
  {
   "cell_type": "code",
   "execution_count": 2,
   "metadata": {},
   "outputs": [
    {
     "name": "stdout",
     "output_type": "stream",
     "text": [
      "['\\ufeffYear', 'Month', 'Day', 'Flag Tsunami', 'Flag Earthquake', 'Volcano Name', 'Location', 'Country', 'Elevation', 'Volcano Type', 'Status', 'Volcanic Explosivity Index', 'Volcano : Deaths', 'Volcano : Deaths Description', 'Volcano : Missing', 'Volcano : Missing Description', 'Volcano : Injuries', 'Volcano : Injuries Description', 'Volcano : Damage (in M$)', 'Volcano : Damage Description', 'Volcano : Houses destroyed', 'Volcano : Houses destroyed Description', 'Total Effects : Deaths', 'Total Effects : Deaths Description', 'Total Effects : Missing', 'Total Effects : Missing Description', 'Total Effects : Injuries', 'Total Effects : Injuries Description', 'Total Effects : Damages in million Dollars', 'Total Effects : Damage Description', 'Total Effects : Houses Destroyed', 'Total Effects : Houses Destroyed Description', 'Coordinates', 'Earthquakes : Houses damaged Description', 'Total Effects : Houses Damaged Description\\n']\n",
      "['1280', '', '', '', '', 'Quilotoa', 'Ecuador', 'Ecuador', '3914', 'Caldera', 'Radiocarbon', '6', '', '', '', '', '', '', '', 'LIMITED (roughly corresponding to less than $1 million)', '', '', '', '', '', '', '', '', '', '', '', '', '-0.85, -78.9', '', '\\n']\n",
      "['1540', '', '', 'Tsunami', '', 'Augustine', 'Alaska-SW', 'United States', '1252', 'Lava dome', 'Historical', '4', '', '', '', '', '', '', '', '', '', '', '', '', '', '', '', '', '', '', '', '', '59.37, -153.42', '', '\\n']\n",
      "['1660', '', '', 'Tsunami', '', 'Long Island', 'New Guinea-NE of', 'Papua New Guinea', '1280', 'Complex volcano', 'Historical', '6', '2000', 'Very Many (~1001 or more deaths)', '', '', '', '', '', 'SEVERE (~>$5 to $24 million)', '', 'Many (~101 to 1000 houses)', '2000', 'Very Many (~1001 or more deaths)', '', '', '', '', '', 'SEVERE (~>$5 to $24 million)', '', 'Many (~101 to 1000 houses)', '-5.358, 147.12', '', '\\n']\n",
      "['1858', '04', '23', '', 'Earthquake', 'Tate-yama', 'Honshu-Japan', 'Japan', '2621', 'Stratovolcano', 'Historical', '', '', 'Many (~101 to 1000 deaths)', '', '', '', '', '', '', '', '', '', 'Many (~101 to 1000 deaths)', '', '', '', '', '', '', '', '', '36.57, 137.6', '', '\\n']\n",
      "835\n"
     ]
    }
   ],
   "source": [
    "with open('significant-volcanic-eruption-database.csv', mode='r') as file:\n",
    "    all_data = [] # general list for the entire table\n",
    "    for line in file:\n",
    "        all_data.append(line.split(';')) # split with ';' delimiter\n",
    "        \n",
    "for row in all_data[:5]: # example of writing the first 5 lines for orientation in the table\n",
    "    print(row)\n",
    "\n",
    "# counting volcanoes in a dataset with subtracting the header row\n",
    "print(len(all_data)-1) "
   ]
  },
  {
   "cell_type": "markdown",
   "metadata": {},
   "source": [
    "##### The next step is to output the index of each title:"
   ]
  },
  {
   "cell_type": "code",
   "execution_count": 3,
   "metadata": {},
   "outputs": [
    {
     "name": "stdout",
     "output_type": "stream",
     "text": [
      "0\t﻿Year\n",
      "1\tMonth\n",
      "2\tDay\n",
      "3\tFlag Tsunami\n",
      "4\tFlag Earthquake\n",
      "5\tVolcano Name\n",
      "6\tLocation\n",
      "7\tCountry\n",
      "8\tElevation\n",
      "9\tVolcano Type\n",
      "10\tStatus\n",
      "11\tVolcanic Explosivity Index\n",
      "12\tVolcano : Deaths\n",
      "13\tVolcano : Deaths Description\n",
      "14\tVolcano : Missing\n",
      "15\tVolcano : Missing Description\n",
      "16\tVolcano : Injuries\n",
      "17\tVolcano : Injuries Description\n",
      "18\tVolcano : Damage (in M$)\n",
      "19\tVolcano : Damage Description\n",
      "20\tVolcano : Houses destroyed\n",
      "21\tVolcano : Houses destroyed Description\n",
      "22\tTotal Effects : Deaths\n",
      "23\tTotal Effects : Deaths Description\n",
      "24\tTotal Effects : Missing\n",
      "25\tTotal Effects : Missing Description\n",
      "26\tTotal Effects : Injuries\n",
      "27\tTotal Effects : Injuries Description\n",
      "28\tTotal Effects : Damages in million Dollars\n",
      "29\tTotal Effects : Damage Description\n",
      "30\tTotal Effects : Houses Destroyed\n",
      "31\tTotal Effects : Houses Destroyed Description\n",
      "32\tCoordinates\n",
      "33\tEarthquakes : Houses damaged Description\n",
      "34\tTotal Effects : Houses Damaged Description\n",
      "\n"
     ]
    }
   ],
   "source": [
    "head_index = 0 # index assignment\n",
    "for head in all_data[0]:\n",
    "    print(f'{head_index}\\t{head}')\n",
    "    head_index += 1 "
   ]
  },
  {
   "cell_type": "markdown",
   "metadata": {},
   "source": [
    "##### One of the key challenges is working with data only for the 18th century and further. Data before 1701 are not used in further work."
   ]
  },
  {
   "cell_type": "code",
   "execution_count": 4,
   "metadata": {},
   "outputs": [
    {
     "name": "stdout",
     "output_type": "stream",
     "text": [
      "836 682\n"
     ]
    }
   ],
   "source": [
    "filt_data = []\n",
    "for row in all_data[1:]: # не берем заголовки\n",
    "    if int(row[0]) >= 1701:\n",
    "        filt_data.append(row)\n",
    "print(len(all_data),len(filt_data)) # оформить через ф-строку всего вулканов и вулканов с 18 века и далее"
   ]
  },
  {
   "cell_type": "markdown",
   "metadata": {},
   "source": [
    "##### Next task was set to find out which type of volcanoes erupt more often and sort the types in descending order:"
   ]
  },
  {
   "cell_type": "code",
   "execution_count": 5,
   "metadata": {},
   "outputs": [
    {
     "name": "stdout",
     "output_type": "stream",
     "text": [
      "Count of Stratovolcano is equal 459\n",
      "Count of Complex volcano is equal 71\n",
      "Count of Shield volcano is equal 53\n",
      "Count of Caldera is equal 46\n",
      "Count of Submarine volcano is equal 16\n",
      "Count of Pyroclastic shield is equal 8\n",
      "Count of Lava dome is equal 7\n",
      "Count of Subglacial volcano is equal 4\n",
      "Count of Tuff cone is equal 3\n",
      "Count of Fissure vent is equal 3\n",
      "Count of Pyroclastic cone is equal 2\n",
      "Count of Maar is equal 2\n",
      "Count of Compound volcano is equal 2\n",
      "Count of Cinder cone is equal 2\n",
      "Count of Submarine volcanoes is equal 1\n",
      "Count of Pumice cone is equal 1\n",
      "Count of Mud volcano is equal 1\n",
      "Count of Lava cone is equal 1\n"
     ]
    }
   ],
   "source": [
    "# creating an empty set\n",
    "volcano_types = set()\n",
    "\n",
    "# output of every 9th element of the line about the types of volcanoes\n",
    "for row in filt_data:\n",
    "    volcano_types.add(row[9])\n",
    "    \n",
    "# creating a dictionary with a starting count of 0\n",
    "types_dict = dict.fromkeys(volcano_types, 0)  \n",
    "\n",
    "# to each key for 9 elements 1 is added for the corresponding key\n",
    "for row in filt_data:\n",
    "    types_dict[row[9]] += 1 \n",
    "\n",
    "# iterate over the values ​​and keys of the dictionary with quantity by type \n",
    "types_count = [] \n",
    "for count, type in zip(types_dict.values(), types_dict.keys()): \n",
    "    types_count.append([count, type]) # added to the list where the count comes first and then the type\n",
    "\n",
    "for count, type in sorted(types_count, reverse=True): # sorting by quantity per type from largest to smallest\n",
    "    print(f'Count of {type} is equal {count}')"
   ]
  },
  {
   "cell_type": "markdown",
   "metadata": {},
   "source": [
    "##### The next stage is to correlate the types of volcanoes and the disasters they caused."
   ]
  },
  {
   "cell_type": "code",
   "execution_count": 6,
   "metadata": {},
   "outputs": [
    {
     "name": "stdout",
     "output_type": "stream",
     "text": [
      "For Stratovolcano type:\n",
      "Count of eruptions causing tsunamies and earthquakes is equal to 21\n",
      "Count of eruptions causing tsunamies is equal to 49\n",
      "Count of eruptions causing earthquakes is equal to 13\n",
      "Count of eruptions without disasters is equal to 376\n",
      "\n",
      "\n",
      "For Shield volcano type:\n",
      "Count of eruptions causing tsunamies and earthquakes is equal to 5\n",
      "Count of eruptions causing tsunamies is equal to 7\n",
      "Count of eruptions without disasters is equal to 41\n",
      "\n",
      "\n",
      "For Complex volcano type:\n",
      "Count of eruptions causing tsunamies and earthquakes is equal to 3\n",
      "Count of eruptions causing tsunamies is equal to 6\n",
      "Count of eruptions causing earthquakes is equal to 1\n",
      "Count of eruptions without disasters is equal to 61\n",
      "\n",
      "\n",
      "For Submarine volcano type:\n",
      "Count of eruptions causing tsunamies and earthquakes is equal to 2\n",
      "Count of eruptions causing tsunamies is equal to 13\n",
      "Count of eruptions without disasters is equal to 1\n",
      "\n",
      "\n",
      "For Pyroclastic shield type:\n",
      "Count of eruptions causing tsunamies and earthquakes is equal to 2\n",
      "Count of eruptions causing tsunamies is equal to 1\n",
      "Count of eruptions causing earthquakes is equal to 1\n",
      "Count of eruptions without disasters is equal to 4\n",
      "\n",
      "\n",
      "For Submarine volcanoes type:\n",
      "Count of eruptions causing tsunamies and earthquakes is equal to 1\n",
      "\n",
      "\n",
      "For Caldera type:\n",
      "Count of eruptions causing tsunamies is equal to 9\n",
      "Count of eruptions causing earthquakes is equal to 1\n",
      "Count of eruptions without disasters is equal to 36\n",
      "\n",
      "\n",
      "For Lava dome type:\n",
      "Count of eruptions causing tsunamies is equal to 1\n",
      "Count of eruptions without disasters is equal to 6\n",
      "\n",
      "\n",
      "For Compound volcano type:\n",
      "Count of eruptions causing tsunamies is equal to 1\n",
      "Count of eruptions without disasters is equal to 1\n",
      "\n",
      "\n",
      "For Mud volcano type:\n",
      "Count of eruptions causing tsunamies is equal to 1\n",
      "\n",
      "\n",
      "For Tuff cone type:\n",
      "Count of eruptions causing earthquakes is equal to 1\n",
      "Count of eruptions without disasters is equal to 2\n",
      "\n",
      "\n",
      "For Fissure vent type:\n",
      "Count of eruptions causing earthquakes is equal to 1\n",
      "Count of eruptions without disasters is equal to 2\n",
      "\n",
      "\n",
      "For Subglacial volcano type:\n",
      "Count of eruptions without disasters is equal to 4\n",
      "\n",
      "\n",
      "For Pyroclastic cone type:\n",
      "Count of eruptions without disasters is equal to 2\n",
      "\n",
      "\n",
      "For Maar type:\n",
      "Count of eruptions without disasters is equal to 2\n",
      "\n",
      "\n",
      "For Cinder cone type:\n",
      "Count of eruptions without disasters is equal to 2\n",
      "\n",
      "\n",
      "For Pumice cone type:\n",
      "Count of eruptions without disasters is equal to 1\n",
      "\n",
      "\n",
      "For Lava cone type:\n",
      "Count of eruptions without disasters is equal to 1\n",
      "\n",
      "\n"
     ]
    }
   ],
   "source": [
    "# creating a dictionary with a starting count of 0\n",
    "types_dict = dict.fromkeys(volcano_types, 0)\n",
    "\n",
    "'''\n",
    "Parameters:\n",
    "\n",
    "noth: the volcanic eruption did not cause subsequent disasters\n",
    "tsu: volcanic eruption caused tsunami\n",
    "eq: volcanic eruption caused earthquake\n",
    "both: volcanic eruption caused tsunami and earthquake\n",
    "'''\n",
    "\n",
    "for type in volcano_types:\n",
    "    types_dict[type] = {'noth': 0, 'tsu': 0, 'eq': 0, 'both': 0} # creation of counters\n",
    "    \n",
    "# assigning counters for each option\n",
    "for row in filt_data:\n",
    "    if row[3] == 'Tsunami' and row[4] == 'Earthquake':\n",
    "        types_dict[row[9]]['both'] += 1\n",
    "    elif row[3] == 'Tsunami':\n",
    "        types_dict[row[9]]['tsu'] += 1\n",
    "    elif row[4] == 'Earthquake':\n",
    "        types_dict[row[9]]['eq'] += 1\n",
    "    elif row[3] == '' and row[4] == '':\n",
    "        types_dict[row[9]]['noth'] += 1\n",
    "\n",
    "# creating a new list and adding values ​​there\n",
    "disasters_count = [] \n",
    "for type in types_dict.keys():\n",
    "    noth, tsu, eq, both = types_dict[type].values()\n",
    "    disasters_count.append([both, tsu, eq, noth, type])\n",
    "\n",
    "# sort by 'both' option from largest to smallest\n",
    "for both, tsu, eq, noth, type in sorted(disasters_count, reverse=True):\n",
    "    print(f'For {type} type:')\n",
    "    if both != 0:\n",
    "        print(f'Count of eruptions causing tsunamies and earthquakes is equal to {both}')\n",
    "    if tsu != 0:\n",
    "        print(f'Count of eruptions causing tsunamies is equal to {tsu}')\n",
    "    if eq != 0: \n",
    "        print(f'Count of eruptions causing earthquakes is equal to {eq}')\n",
    "    if noth != 0:\n",
    "        print(f'Count of eruptions without disasters is equal to {noth}')\n",
    "    print('\\n')"
   ]
  },
  {
   "cell_type": "markdown",
   "metadata": {},
   "source": [
    "#####  Top-10 countries with the largest number of eruptions:"
   ]
  },
  {
   "cell_type": "code",
   "execution_count": 7,
   "metadata": {},
   "outputs": [
    {
     "name": "stdout",
     "output_type": "stream",
     "text": [
      "1. Indonesia с количеством извержений 176\n",
      "2. Japan с количеством извержений 120\n",
      "3. Philippines с количеством извержений 44\n",
      "4. Italy с количеством извержений 40\n",
      "5. United States с количеством извержений 39\n",
      "6. Papua New Guinea с количеством извержений 31\n",
      "7. Iceland с количеством извержений 26\n",
      "8. Russia с количеством извержений 19\n",
      "9. Chile с количеством извержений 19\n",
      "10. Ecuador с количеством извержений 18\n"
     ]
    }
   ],
   "source": [
    "countries_erupt = {}\n",
    "for row in filt_data:\n",
    "    if row[7] not in countries_erupt: # здесь не множеством, а ифом добавляем в список стран\n",
    "        countries_erupt[row[7]] = 1\n",
    "    else:\n",
    "        countries_erupt[row[7]] += 1\n",
    "\n",
    "countries_erupt_reversed = [] # переворачиваем чтобы отсортировать\n",
    "for count, country in zip(countries_erupt.values(), countries_erupt.keys()): \n",
    "    countries_erupt_reversed.append([count, country]) # added to the list where the count comes first and then the type\n",
    "top_countries = sorted(countries_erupt_reversed,reverse=True)[:10]\n",
    "\n",
    "for i in range(len(top_countries)):\n",
    "    print(f'{i+1}. {top_countries[i][1]} с количеством извержений {top_countries[i][0]}')"
   ]
  },
  {
   "cell_type": "markdown",
   "metadata": {},
   "source": [
    "#####  Finding out the countries where eruptions caused the largest number of deaths:"
   ]
  },
  {
   "cell_type": "code",
   "execution_count": 11,
   "metadata": {},
   "outputs": [
    {
     "name": "stdout",
     "output_type": "stream",
     "text": [
      "1. Indonesia with number of deaths 43161\n",
      "2. Martinique with number of deaths 29523\n",
      "3. Colombia with number of deaths 24171\n",
      "4. Philippines with number of deaths 7429\n",
      "5. United States with number of deaths 5485\n",
      "6. Japan with number of deaths 3816\n",
      "7. Papua New Guinea with number of deaths 3488\n",
      "8. Guatemala with number of deaths 2925\n",
      "9. Mexico with number of deaths 1934\n",
      "10. Turkey with number of deaths 1900\n"
     ]
    }
   ],
   "source": [
    "countries_deaths = {}\n",
    "for row in filt_data:\n",
    "    if row[12] != '':\n",
    "        death_count = int(row[12])\n",
    "    else:\n",
    "        death_count = 0\n",
    "    if row[7] not in countries_deaths: # здесь не множеством, а ифом добавляем в список стран\n",
    "        countries_deaths[row[7]] = death_count\n",
    "    else:\n",
    "        countries_deaths[row[7]] += death_count\n",
    "\n",
    "countries_death_reversed = [] # переворачиваем чтобы отсортировать\n",
    "for count, country in zip(countries_deaths.values(), countries_deaths.keys()): \n",
    "    countries_death_reversed.append([count, country]) # \n",
    "top_countries = sorted(countries_death_reversed,reverse=True)[:10]\n",
    "\n",
    "for i in range(len(top_countries)):\n",
    "    print(f'{i+1}. {top_countries[i][1]} with number of deaths {top_countries[i][0]}')\n"
   ]
  },
  {
   "cell_type": "code",
   "execution_count": 9,
   "metadata": {},
   "outputs": [
    {
     "name": "stdout",
     "output_type": "stream",
     "text": [
      "thanks for attention!!!!!!!!!!!!\n",
      "\n",
      "                      ooO\n",
      "                     ooOOOo\n",
      "                   oOOOOOOoooo\n",
      "                 ooOOOooo  oooo\n",
      "                /vvv\\\n",
      "               /V V V\\ \n",
      "              /V  V  V\\          \n",
      "             /         \\               AAAAH!\n",
      "            /           \\               /\n",
      "          /               \\   \t  o          o\n",
      "__       /                 \\     /-   o     /-\n",
      "/\\     /                     \\  /\\  -/-    /\\\n",
      "                                    /\\\n"
     ]
    }
   ],
   "source": [
    "print('thanks for attention!!!!!!!!!!!!')\n",
    "with open('volcano.txt', encoding = 'utf-8') as f:\n",
    "    volcano = f.read()\n",
    "\n",
    "print(volcano) "
   ]
  }
 ],
 "metadata": {
  "kernelspec": {
   "display_name": "base",
   "language": "python",
   "name": "python3"
  },
  "language_info": {
   "codemirror_mode": {
    "name": "ipython",
    "version": 3
   },
   "file_extension": ".py",
   "mimetype": "text/x-python",
   "name": "python",
   "nbconvert_exporter": "python",
   "pygments_lexer": "ipython3",
   "version": "3.11.5"
  }
 },
 "nbformat": 4,
 "nbformat_minor": 2
}
